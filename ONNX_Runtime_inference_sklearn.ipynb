{
  "nbformat": 4,
  "nbformat_minor": 0,
  "metadata": {
    "colab": {
      "name": "ONNX_Runtime_inference_sklearn.ipynb",
      "provenance": [],
      "collapsed_sections": [],
      "authorship_tag": "ABX9TyPPQqwCHjsbxhm7N7PV0k4J",
      "include_colab_link": true
    },
    "kernelspec": {
      "name": "python3",
      "display_name": "Python 3"
    },
    "language_info": {
      "name": "python"
    }
  },
  "cells": [
    {
      "cell_type": "markdown",
      "metadata": {
        "id": "view-in-github",
        "colab_type": "text"
      },
      "source": [
        "<a href=\"https://colab.research.google.com/github/poojatambe/ONNXRuntime-Inference/blob/main/ONNX_Runtime_inference_sklearn.ipynb\" target=\"_parent\"><img src=\"https://colab.research.google.com/assets/colab-badge.svg\" alt=\"Open In Colab\"/></a>"
      ]
    },
    {
      "cell_type": "code",
      "source": [
        "# !pip install onnxruntime\n",
        "# !pip install skl2onnx\n",
        "!pip install onnxcustom"
      ],
      "metadata": {
        "id": "ge6HGQBa3WU5"
      },
      "execution_count": null,
      "outputs": []
    },
    {
      "cell_type": "code",
      "execution_count": 30,
      "metadata": {
        "id": "PdmUhOkx2Sh3"
      },
      "outputs": [],
      "source": [
        "import numpy\n",
        "from onnxruntime import InferenceSession\n",
        "from sklearn.datasets import load_iris\n",
        "from sklearn.ensemble import GradientBoostingRegressor\n",
        "from sklearn.model_selection import train_test_split\n",
        "from skl2onnx import to_onnx\n",
        "from onnx.tools.net_drawer import GetPydotGraph, GetOpNodeProducer\n",
        "import matplotlib.pyplot as plt \n",
        "import os\n",
        "from onnxcustom.utils import measure_time"
      ]
    },
    {
      "cell_type": "markdown",
      "source": [
        "# Data preparation"
      ],
      "metadata": {
        "id": "r5ZY7xJoFW_f"
      }
    },
    {
      "cell_type": "code",
      "source": [
        "iris = load_iris()\n",
        "X = iris.data\n",
        "y = iris.target\n",
        "X_train, X_test, y_train, y_test = train_test_split(X, y)\n"
      ],
      "metadata": {
        "id": "c9ZEx1lC9quH"
      },
      "execution_count": 17,
      "outputs": []
    },
    {
      "cell_type": "markdown",
      "source": [
        "## Fit the model"
      ],
      "metadata": {
        "id": "_liblZZwFbmj"
      }
    },
    {
      "cell_type": "code",
      "source": [
        "reg = GradientBoostingRegressor(random_state=1, n_estimators=5)\n",
        "reg.fit(X_train, y_train)"
      ],
      "metadata": {
        "colab": {
          "base_uri": "https://localhost:8080/"
        },
        "id": "1zMBQwM5-XO9",
        "outputId": "9093014a-4027-470a-9769-0be43385af30"
      },
      "execution_count": 18,
      "outputs": [
        {
          "output_type": "execute_result",
          "data": {
            "text/plain": [
              "GradientBoostingRegressor(n_estimators=5, random_state=1)"
            ]
          },
          "metadata": {},
          "execution_count": 18
        }
      ]
    },
    {
      "cell_type": "markdown",
      "source": [
        "## Convert to onnx"
      ],
      "metadata": {
        "id": "bwMuPfLRFjTk"
      }
    },
    {
      "cell_type": "code",
      "source": [
        "model_onnx = to_onnx(reg, X_train.astype(numpy.float32))\n",
        "with open(\"iris.onnx\", \"wb\") as f:\n",
        "    f.write(model_onnx.SerializeToString())"
      ],
      "metadata": {
        "id": "_yVyWuZl_tcV"
      },
      "execution_count": 25,
      "outputs": []
    },
    {
      "cell_type": "markdown",
      "source": [
        "# Onnx runtime inference"
      ],
      "metadata": {
        "id": "30Q6MDhLFngR"
      }
    },
    {
      "cell_type": "code",
      "source": [
        "sess = InferenceSession(\"iris.onnx\",\n",
        "                        providers=['CPUExecutionProvider'])\n",
        "input_name = sess.get_inputs()[0].name\n",
        "pred_ort = sess.run(None, {input_name: X_test.astype(numpy.float32)})[0]\n",
        "print(\"ort prediction\",pred_ort[:5])\n"
      ],
      "metadata": {
        "colab": {
          "base_uri": "https://localhost:8080/"
        },
        "id": "f-QL5Kok__qB",
        "outputId": "4a8a63b7-e61e-4977-b736-19adf6ffcdd0"
      },
      "execution_count": 46,
      "outputs": [
        {
          "output_type": "stream",
          "name": "stdout",
          "text": [
            "ort prediction [[1.021089 ]\n",
            " [1.021089 ]\n",
            " [1.4312539]\n",
            " [1.021089 ]\n",
            " [0.6115789]]\n",
            "1.021089\n"
          ]
        }
      ]
    },
    {
      "cell_type": "markdown",
      "source": [
        "## Sklearn prediction"
      ],
      "metadata": {
        "id": "9kelAlWhHTxs"
      }
    },
    {
      "cell_type": "code",
      "source": [
        "pred_skl = reg.predict(X_test.astype(numpy.float32))\n",
        "print(\"sklearn prediction\", pred_skl[:5])\n"
      ],
      "metadata": {
        "colab": {
          "base_uri": "https://localhost:8080/"
        },
        "id": "H7nHnSLTBtOi",
        "outputId": "e6939765-8a38-4435-8271-16d6541c8adb"
      },
      "execution_count": 27,
      "outputs": [
        {
          "output_type": "stream",
          "name": "stdout",
          "text": [
            "sklearn prediction [1.02108893 1.02108893 1.43125398 1.02108893 0.61157893]\n"
          ]
        }
      ]
    },
    {
      "cell_type": "markdown",
      "source": [
        "## Difference between predictions"
      ],
      "metadata": {
        "id": "GyF-ViUAKCPe"
      }
    },
    {
      "cell_type": "code",
      "source": [
        "diff=0\n",
        "for i in range(5):\n",
        "  diff+=(pred_skl[i]-pred_ort[i][0])\n",
        "print(\"Error in prediction:\", diff/5)  "
      ],
      "metadata": {
        "colab": {
          "base_uri": "https://localhost:8080/"
        },
        "id": "VurYBYyKKHN5",
        "outputId": "e2faa465-2a25-4ebd-bf39-aaea4ffa7cb0"
      },
      "execution_count": 50,
      "outputs": [
        {
          "output_type": "stream",
          "name": "stdout",
          "text": [
            "Error in prediction: 5.062248664700064e-09\n"
          ]
        }
      ]
    },
    {
      "cell_type": "markdown",
      "source": [
        "## Measure time"
      ],
      "metadata": {
        "id": "xBzgeP5sHpzP"
      }
    },
    {
      "cell_type": "code",
      "source": [
        "# sklearn\n",
        "context = {\"reg\": reg, 'X': X_test[:5]}\n",
        "mt = measure_time(\n",
        "    \"reg.predict(X)\", context, div_by_number=True)\n",
        "mt['size'] = context['X'].shape[0]\n",
        "mt['mean_obs'] = mt['average'] / mt['size']\n",
        "print(\"sklearn prediction time for 5 test samples\",mt['mean_obs'])\n",
        "\n",
        "#onnxruntime\n",
        "context = {\"sess\": sess, 'X': X_test[:5].astype(numpy.float32)}\n",
        "mt2 = measure_time(\n",
        "    \"sess.run(None, {'X': X})[0]\", context, div_by_number=True)\n",
        "mt['ort'] = mt2['average'] / mt['size']\n",
        "print(\"Onnx runtime inference time for 5 test samples\",mt['ort'])\n",
        "\n",
        "\n",
        "# Difference \n",
        "print(\"Onnx runtime is faster than normal prediction\", (mt['mean_obs']-mt['ort']))"
      ],
      "metadata": {
        "colab": {
          "base_uri": "https://localhost:8080/"
        },
        "id": "-jH82ea3HZBS",
        "outputId": "c348f4bb-0ccf-4271-e8a4-ea48abe93d47"
      },
      "execution_count": 36,
      "outputs": [
        {
          "output_type": "stream",
          "name": "stdout",
          "text": [
            "sklearn prediction time for 5 test samples 5.29322083995794e-05\n",
            "Onnx runtime inference time for 5 test samples 3.051122000033501e-06\n",
            "onnx runtime is faster than normal prediction 4.9881086399545896e-05\n"
          ]
        }
      ]
    },
    {
      "cell_type": "code",
      "source": [
        ""
      ],
      "metadata": {
        "id": "K4n6Rc0kIfj2"
      },
      "execution_count": null,
      "outputs": []
    }
  ]
}